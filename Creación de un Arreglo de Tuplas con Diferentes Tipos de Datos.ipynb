{
 "cells": [
  {
   "cell_type": "code",
   "execution_count": 1,
   "id": "6dbda0a3",
   "metadata": {},
   "outputs": [],
   "source": [
    "Mi_tupla = ('Python',13.32,11,True)"
   ]
  },
  {
   "cell_type": "code",
   "execution_count": 2,
   "id": "1522d152",
   "metadata": {},
   "outputs": [],
   "source": [
    "Mi_lista = list(Mi_tupla)"
   ]
  },
  {
   "cell_type": "code",
   "execution_count": 5,
   "id": "18e80411",
   "metadata": {},
   "outputs": [],
   "source": [
    "Mi_diccionario = {}\n",
    "for i in range(len(Mi_lista)):\n",
    "    Mi_diccionario[i+1]=Mi_lista[i]"
   ]
  },
  {
   "cell_type": "code",
   "execution_count": 6,
   "id": "ecccc5e4",
   "metadata": {},
   "outputs": [
    {
     "name": "stdout",
     "output_type": "stream",
     "text": [
      "{1: 'Python', 2: 13.32, 3: 11, 4: True}\n"
     ]
    }
   ],
   "source": [
    "print(Mi_diccionario)"
   ]
  },
  {
   "cell_type": "code",
   "execution_count": null,
   "id": "bb0077b4",
   "metadata": {},
   "outputs": [],
   "source": []
  }
 ],
 "metadata": {
  "kernelspec": {
   "display_name": "Python 3 (ipykernel)",
   "language": "python",
   "name": "python3"
  },
  "language_info": {
   "codemirror_mode": {
    "name": "ipython",
    "version": 3
   },
   "file_extension": ".py",
   "mimetype": "text/x-python",
   "name": "python",
   "nbconvert_exporter": "python",
   "pygments_lexer": "ipython3",
   "version": "3.11.5"
  }
 },
 "nbformat": 4,
 "nbformat_minor": 5
}

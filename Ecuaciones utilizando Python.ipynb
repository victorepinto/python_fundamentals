{
 "cells": [
  {
   "cell_type": "code",
   "execution_count": 1,
   "id": "8ed2f86e",
   "metadata": {},
   "outputs": [],
   "source": [
    "x = 24/2"
   ]
  },
  {
   "cell_type": "code",
   "execution_count": 2,
   "id": "edbaf5b3",
   "metadata": {},
   "outputs": [
    {
     "name": "stdout",
     "output_type": "stream",
     "text": [
      "Tengo 12.0 años\n"
     ]
    }
   ],
   "source": [
    "print(f\"Tengo {x} años\")"
   ]
  },
  {
   "cell_type": "code",
   "execution_count": 5,
   "id": "5e15f1b0",
   "metadata": {},
   "outputs": [
    {
     "name": "stdout",
     "output_type": "stream",
     "text": [
      "Mi hermana tiene 63 años\n"
     ]
    }
   ],
   "source": [
    "mi_edad = 6\n",
    "y = (mi_edad + 15)*3\n",
    "print(f\"Mi hermana tiene {y} años\")"
   ]
  },
  {
   "cell_type": "code",
   "execution_count": 6,
   "id": "a3df76b6",
   "metadata": {},
   "outputs": [
    {
     "name": "stdout",
     "output_type": "stream",
     "text": [
      "Mi hermana es mayor que yo\n"
     ]
    }
   ],
   "source": [
    "if x>y:\n",
    "    print(\"Soy mayor que mi hermana\")\n",
    "elif x<y:\n",
    "    print(\"Mi hermana es mayor que yo\")\n",
    "else:\n",
    "    print(\"Mi hermana y yo tenemos la misma edad\")"
   ]
  },
  {
   "cell_type": "code",
   "execution_count": null,
   "id": "55b8e6bc",
   "metadata": {},
   "outputs": [],
   "source": []
  }
 ],
 "metadata": {
  "kernelspec": {
   "display_name": "Python 3 (ipykernel)",
   "language": "python",
   "name": "python3"
  },
  "language_info": {
   "codemirror_mode": {
    "name": "ipython",
    "version": 3
   },
   "file_extension": ".py",
   "mimetype": "text/x-python",
   "name": "python",
   "nbconvert_exporter": "python",
   "pygments_lexer": "ipython3",
   "version": "3.11.5"
  }
 },
 "nbformat": 4,
 "nbformat_minor": 5
}

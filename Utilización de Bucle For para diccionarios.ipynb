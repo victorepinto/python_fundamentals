{
 "cells": [
  {
   "cell_type": "code",
   "execution_count": 5,
   "id": "55b9260d",
   "metadata": {},
   "outputs": [
    {
     "name": "stdout",
     "output_type": "stream",
     "text": [
      "Nombre:Juan\n",
      "Numero:5\n",
      "Nombre:Pepe\n",
      "Numero:20\n",
      "Nombre:Adela\n",
      "Numero:1\n",
      "Nombre:Marta\n",
      "Numero:200\n",
      "Nombre:Eduardo\n",
      "Numero:3\n",
      "El valor más pequeño de la lista es: 1\n",
      "El valor más grande de la lista es: 200\n"
     ]
    }
   ],
   "source": [
    "diccionario_base = {\"Juan\":5,\"Pepe\":20,\"Adela\":1,\"Marta\":200,\"Eduardo\":3}\n",
    "for i in diccionario_base:\n",
    "    nombre = i\n",
    "    print(f\"Nombre:{nombre}\")\n",
    "    numero = diccionario_base[i]\n",
    "    print(f\"Numero:{numero}\")\n",
    "    \n",
    "valores = diccionario_base.values()\n",
    "minimo = min(valores)\n",
    "maximo = max(valores)\n",
    "\n",
    "menor = min(diccionario_base.values())\n",
    "maximo = max (diccionario_base.values())\n",
    "\n",
    "print(f\"El valor más pequeño de la lista es: {minimo}\")\n",
    "print(f\"El valor más grande de la lista es: {maximo}\")"
   ]
  },
  {
   "cell_type": "code",
   "execution_count": null,
   "id": "c3409352",
   "metadata": {},
   "outputs": [],
   "source": []
  }
 ],
 "metadata": {
  "kernelspec": {
   "display_name": "Python 3 (ipykernel)",
   "language": "python",
   "name": "python3"
  },
  "language_info": {
   "codemirror_mode": {
    "name": "ipython",
    "version": 3
   },
   "file_extension": ".py",
   "mimetype": "text/x-python",
   "name": "python",
   "nbconvert_exporter": "python",
   "pygments_lexer": "ipython3",
   "version": "3.11.5"
  }
 },
 "nbformat": 4,
 "nbformat_minor": 5
}

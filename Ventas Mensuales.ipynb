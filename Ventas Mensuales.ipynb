{
 "cells": [
  {
   "cell_type": "code",
   "execution_count": 2,
   "id": "83497107",
   "metadata": {},
   "outputs": [],
   "source": [
    "import numpy as np"
   ]
  },
  {
   "cell_type": "code",
   "execution_count": 5,
   "id": "77779bb7",
   "metadata": {},
   "outputs": [
    {
     "name": "stdout",
     "output_type": "stream",
     "text": [
      "[[1200 1500  800 2500]\n",
      " [1800 1600  900 2800]\n",
      " [1500 1400  950 2600]\n",
      " [1300 1700  850 2700]\n",
      " [2000 1800  950 2900]\n",
      " [1700 1600  900 2700]\n",
      " [1400 1300  850 2500]\n",
      " [1600 1400 1000 2600]\n",
      " [1800 1700  950 2900]\n",
      " [1900 1500  850 2800]\n",
      " [1700 1600  900 2600]\n",
      " [2100 1800 1000 3000]]\n"
     ]
    }
   ],
   "source": [
    "ventas_mensuales = np.array([[1200,1500,800,2500],[1800,1600,900,2800],[1500,1400,950,2600],[1300,1700,850,2700],[2000,1800,950,2900],[1700,1600,900,2700],[1400,1300,850,2500],[1600,1400,1000,2600],[1800,1700,950,2900],[1900,1500,850,2800],[1700,1600,900,2600],[2100,1800,1000,3000]])\n",
    "print(ventas_mensuales)"
   ]
  },
  {
   "cell_type": "code",
   "execution_count": 6,
   "id": "3462ed5f",
   "metadata": {},
   "outputs": [
    {
     "name": "stdout",
     "output_type": "stream",
     "text": [
      "[20000 18900 10900 32600]\n"
     ]
    }
   ],
   "source": [
    "total_ventas_productos = np.sum(ventas_mensuales, axis=0)\n",
    "print(total_ventas_productos)"
   ]
  },
  {
   "cell_type": "code",
   "execution_count": null,
   "id": "1d272c69",
   "metadata": {},
   "outputs": [],
   "source": []
  }
 ],
 "metadata": {
  "kernelspec": {
   "display_name": "Python 3 (ipykernel)",
   "language": "python",
   "name": "python3"
  },
  "language_info": {
   "codemirror_mode": {
    "name": "ipython",
    "version": 3
   },
   "file_extension": ".py",
   "mimetype": "text/x-python",
   "name": "python",
   "nbconvert_exporter": "python",
   "pygments_lexer": "ipython3",
   "version": "3.11.5"
  }
 },
 "nbformat": 4,
 "nbformat_minor": 5
}

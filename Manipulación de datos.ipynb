{
 "cells": [
  {
   "cell_type": "code",
   "execution_count": 1,
   "id": "172fe5e5",
   "metadata": {},
   "outputs": [
    {
     "name": "stdout",
     "output_type": "stream",
     "text": [
      "Ingrese el monto de la compra: 70\n",
      "Total a pagar:  70.0\n",
      "Ingrese el monto de la compra: 850\n",
      "Total a pagar:  920.0\n",
      "Ingrese el monto de la compra: 80\n",
      "Total a pagar:  1000.0\n",
      "Ingrese el monto de la compra: 100\n",
      "Total a pagar:  990.0\n",
      "Ingrese el monto de la compra: -600\n",
      "El valor ingresado no es valido.\n",
      "Ingrese el monto de la compra: 5\n",
      "Total a pagar:  995.0\n",
      "Ingrese el monto de la compra: 0\n"
     ]
    }
   ],
   "source": [
    "total = 0\n",
    "while True:\n",
    "    monto = float(input('Ingrese el monto de la compra: '))\n",
    "    \n",
    "    if monto == 0:\n",
    "        break;\n",
    "    \n",
    "    if monto <0:\n",
    "        print(\"El valor ingresado no es valido.\")\n",
    "        continue;\n",
    "        \n",
    "    total += monto\n",
    "    \n",
    "    if total>1000:\n",
    "        total *= 0.9\n",
    "        \n",
    "    print(\"Total a pagar: \",total)"
   ]
  },
  {
   "cell_type": "code",
   "execution_count": 2,
   "id": "2139e048",
   "metadata": {},
   "outputs": [
    {
     "name": "stdout",
     "output_type": "stream",
     "text": [
      "Ingresa el tiempo trabajado en minutos: 10\n",
      "Total a pagar:  25\n",
      "Ingresa el tiempo trabajado en minutos: 40\n",
      "Total a pagar:  25\n",
      "Ingresa el tiempo trabajado en minutos: 60\n",
      "Total a pagar:  25\n",
      "Ingresa el tiempo trabajado en minutos: 61\n",
      "Total a pagar:  25.25\n",
      "Ingresa el tiempo trabajado en minutos: 120\n",
      "Total a pagar:  40.0\n",
      "Ingresa el tiempo trabajado en minutos: 500\n",
      "Total a pagar:  225\n",
      "Ingresa el tiempo trabajado en minutos: 0\n",
      "No trabajo\n"
     ]
    }
   ],
   "source": [
    "minutos = 0\n",
    "costo = 0\n",
    "\n",
    "while True:\n",
    "    minutos = int(input('Ingresa el tiempo trabajado en minutos: '))\n",
    "    \n",
    "    if minutos == 0:\n",
    "        print(\"No trabajo\")\n",
    "        break;\n",
    "    \n",
    "    if minutos <0:\n",
    "        print(\"No valido\")\n",
    "        continue;\n",
    "        \n",
    "    if minutos > 480:\n",
    "        costo = 225\n",
    "        \n",
    "    elif minutos > 60:\n",
    "        costo = 25 + (15*((minutos-60)/60))\n",
    "        \n",
    "    elif minutos > 0:\n",
    "        costo = 25\n",
    "        \n",
    "    else:\n",
    "        costo = 0\n",
    "        \n",
    "    print(\"Total a pagar: \",costo)"
   ]
  },
  {
   "cell_type": "code",
   "execution_count": null,
   "id": "0de41fb1",
   "metadata": {},
   "outputs": [],
   "source": []
  }
 ],
 "metadata": {
  "kernelspec": {
   "display_name": "Python 3 (ipykernel)",
   "language": "python",
   "name": "python3"
  },
  "language_info": {
   "codemirror_mode": {
    "name": "ipython",
    "version": 3
   },
   "file_extension": ".py",
   "mimetype": "text/x-python",
   "name": "python",
   "nbconvert_exporter": "python",
   "pygments_lexer": "ipython3",
   "version": "3.11.5"
  }
 },
 "nbformat": 4,
 "nbformat_minor": 5
}
